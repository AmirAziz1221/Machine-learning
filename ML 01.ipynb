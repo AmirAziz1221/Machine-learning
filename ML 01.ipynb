{
 "cells": [
  {
   "cell_type": "markdown",
   "id": "ba54c980",
   "metadata": {},
   "source": [
    "# Steps\n",
    "1. Create a new conda enviroment <span style=\"color: blue;\"> 'python_machine_learning'</span>\n",
    "2. install the following packages:\n",
    "   1. python\n",
    "      1. pandas\n",
    "      2. numpy\n",
    "      3. matplotlib\n",
    "      4. seaborn\n",
    "      5. scipy\n",
    "      6. scikit-learn\n",
    "      7. openpyxl\n",
    "      8. plotly"
   ]
  },
  {
   "cell_type": "code",
   "execution_count": 4,
   "id": "e62b92a4",
   "metadata": {},
   "outputs": [],
   "source": [
    "import pandas as pd\n",
    "import numpy as np\n",
    "import matplotlib.pyplot as plt\n",
    "import seaborn as sns\n",
    "from sklearn import linear_model"
   ]
  },
  {
   "cell_type": "code",
   "execution_count": 6,
   "id": "0963629c",
   "metadata": {},
   "outputs": [
    {
     "data": {
      "text/plain": [
       "array([0.5, 0.5])"
      ]
     },
     "execution_count": 6,
     "metadata": {},
     "output_type": "execute_result"
    }
   ],
   "source": [
    "from sklearn.linear_model import LinearRegression\n",
    "\n",
    "reg = LinearRegression()\n",
    "reg.fit([[0, 0], [1, 1], [2, 2]], [0, 1, 2])\n",
    "\n",
    "reg.coef_\n"
   ]
  }
 ],
 "metadata": {
  "kernelspec": {
   "display_name": "Python 3 (ipykernel)",
   "language": "python",
   "name": "python3"
  },
  "language_info": {
   "codemirror_mode": {
    "name": "ipython",
    "version": 3
   },
   "file_extension": ".py",
   "mimetype": "text/x-python",
   "name": "python",
   "nbconvert_exporter": "python",
   "pygments_lexer": "ipython3",
   "version": "3.11.5"
  }
 },
 "nbformat": 4,
 "nbformat_minor": 5
}
